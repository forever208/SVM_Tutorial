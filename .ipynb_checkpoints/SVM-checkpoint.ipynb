{
 "cells": [
  {
   "cell_type": "code",
   "execution_count": 341,
   "metadata": {},
   "outputs": [],
   "source": [
    "import numpy as np\n",
    "import random , math\n",
    "from scipy.optimize import minimize \n",
    "import matplotlib.pyplot as plt "
   ]
  },
  {
   "cell_type": "code",
   "execution_count": 342,
   "metadata": {},
   "outputs": [],
   "source": [
    "# np.random.seed(100)\n",
    "C = 1    # use slack, add upper boundary for alpha\n",
    "POLI = 3    # the order of polinomial kernel\n",
    "STD_DEVI = 1    # the standard deviation of RBF kernel"
   ]
  },
  {
   "cell_type": "markdown",
   "metadata": {},
   "source": [
    "## 【1】Generate data"
   ]
  },
  {
   "cell_type": "code",
   "execution_count": 343,
   "metadata": {},
   "outputs": [
    {
     "data": {
      "text/plain": [
       "array([[ 0.85341347,  0.21283769],\n",
       "       [ 0.45261865,  0.15332651],\n",
       "       [ 0.53882743, -0.31991253],\n",
       "       [ 0.58507317,  0.2938474 ],\n",
       "       [ 0.16823378,  0.32362017],\n",
       "       [ 0.31587895,  0.14234523],\n",
       "       [ 0.33415823, -0.04682115],\n",
       "       [ 0.60273582,  0.50530129],\n",
       "       [ 0.14469689,  0.27103254],\n",
       "       [ 0.37853697,  0.08690757]])"
      ]
     },
     "execution_count": 343,
     "metadata": {},
     "output_type": "execute_result"
    }
   ],
   "source": [
    "Class_A1 = np.random.randn(10, 2)    # 10*2 array of Gasussian distribution with mean=0, variance=1\n",
    "Class_A1 = Class_A1*0.2 + [0.5, 0.1]    # mean point is (1.5, 0.5), variance=0.2\n",
    "Class_A1"
   ]
  },
  {
   "cell_type": "code",
   "execution_count": 344,
   "metadata": {},
   "outputs": [
    {
     "data": {
      "text/plain": [
       "array([[-0.86070708,  0.4598205 ],\n",
       "       [-0.52881652,  0.51914654],\n",
       "       [-0.53816434,  0.49009351],\n",
       "       [-0.54362744,  0.73298503],\n",
       "       [-0.34778586,  0.14300131],\n",
       "       [-0.45514934,  0.29609263],\n",
       "       [-0.46371177,  0.59923069],\n",
       "       [-0.98811621,  0.29102147],\n",
       "       [-0.65447685,  0.64083285],\n",
       "       [-0.67621244,  0.5128084 ]])"
      ]
     },
     "execution_count": 344,
     "metadata": {},
     "output_type": "execute_result"
    }
   ],
   "source": [
    "Class_A2 = np.random.randn(10, 2)\n",
    "Class_A2 = Class_A2*0.2 + [-0.5, 0.5]    # mean point is (0, -0.5), variance=0.2\n",
    "Class_A2"
   ]
  },
  {
   "cell_type": "code",
   "execution_count": 345,
   "metadata": {},
   "outputs": [
    {
     "data": {
      "text/plain": [
       "array([[ 0.85341347,  0.21283769],\n",
       "       [ 0.45261865,  0.15332651],\n",
       "       [ 0.53882743, -0.31991253],\n",
       "       [ 0.58507317,  0.2938474 ],\n",
       "       [ 0.16823378,  0.32362017],\n",
       "       [ 0.31587895,  0.14234523],\n",
       "       [ 0.33415823, -0.04682115],\n",
       "       [ 0.60273582,  0.50530129],\n",
       "       [ 0.14469689,  0.27103254],\n",
       "       [ 0.37853697,  0.08690757],\n",
       "       [-0.86070708,  0.4598205 ],\n",
       "       [-0.52881652,  0.51914654],\n",
       "       [-0.53816434,  0.49009351],\n",
       "       [-0.54362744,  0.73298503],\n",
       "       [-0.34778586,  0.14300131],\n",
       "       [-0.45514934,  0.29609263],\n",
       "       [-0.46371177,  0.59923069],\n",
       "       [-0.98811621,  0.29102147],\n",
       "       [-0.65447685,  0.64083285],\n",
       "       [-0.67621244,  0.5128084 ]])"
      ]
     },
     "execution_count": 345,
     "metadata": {},
     "output_type": "execute_result"
    }
   ],
   "source": [
    "Class_A = np.concatenate((Class_A1, Class_A2))    # 20 points of samples\n",
    "Class_A"
   ]
  },
  {
   "cell_type": "code",
   "execution_count": 346,
   "metadata": {},
   "outputs": [
    {
     "data": {
      "text/plain": [
       "array([[ 0.19304112, -0.40677686],\n",
       "       [ 0.18111504, -0.317448  ],\n",
       "       [-0.23354556, -0.74872955],\n",
       "       [-0.02644637, -0.4672276 ],\n",
       "       [-0.19734547, -0.89504015],\n",
       "       [ 0.16856945, -0.74073093],\n",
       "       [-0.13569781, -0.6490002 ],\n",
       "       [ 0.04265452, -0.4734375 ],\n",
       "       [-0.1944664 , -0.87308152],\n",
       "       [-0.108303  , -0.61976511],\n",
       "       [ 0.06032971, -0.61260696],\n",
       "       [-0.01284011, -0.5470416 ],\n",
       "       [-0.09429188, -0.51070891],\n",
       "       [ 0.50173713, -0.35664237],\n",
       "       [ 0.20600917, -0.50659684],\n",
       "       [ 0.15993517, -0.56815586],\n",
       "       [ 0.00606387, -0.40715276],\n",
       "       [-0.01599428, -0.29989762],\n",
       "       [-0.07583549, -0.55166993],\n",
       "       [ 0.26731252, -0.3995437 ]])"
      ]
     },
     "execution_count": 346,
     "metadata": {},
     "output_type": "execute_result"
    }
   ],
   "source": [
    "Class_B = np.random.randn(20 , 2)*0.2 + [0.0, -0.5]    # 20 points with mean point (0, 0.5) and variance=0.2\n",
    "Class_B"
   ]
  },
  {
   "cell_type": "code",
   "execution_count": 347,
   "metadata": {},
   "outputs": [
    {
     "data": {
      "text/plain": [
       "array([[ 0.85341347,  0.21283769],\n",
       "       [ 0.45261865,  0.15332651],\n",
       "       [ 0.53882743, -0.31991253],\n",
       "       [ 0.58507317,  0.2938474 ],\n",
       "       [ 0.16823378,  0.32362017],\n",
       "       [ 0.31587895,  0.14234523],\n",
       "       [ 0.33415823, -0.04682115],\n",
       "       [ 0.60273582,  0.50530129],\n",
       "       [ 0.14469689,  0.27103254],\n",
       "       [ 0.37853697,  0.08690757],\n",
       "       [-0.86070708,  0.4598205 ],\n",
       "       [-0.52881652,  0.51914654],\n",
       "       [-0.53816434,  0.49009351],\n",
       "       [-0.54362744,  0.73298503],\n",
       "       [-0.34778586,  0.14300131],\n",
       "       [-0.45514934,  0.29609263],\n",
       "       [-0.46371177,  0.59923069],\n",
       "       [-0.98811621,  0.29102147],\n",
       "       [-0.65447685,  0.64083285],\n",
       "       [-0.67621244,  0.5128084 ],\n",
       "       [ 0.19304112, -0.40677686],\n",
       "       [ 0.18111504, -0.317448  ],\n",
       "       [-0.23354556, -0.74872955],\n",
       "       [-0.02644637, -0.4672276 ],\n",
       "       [-0.19734547, -0.89504015],\n",
       "       [ 0.16856945, -0.74073093],\n",
       "       [-0.13569781, -0.6490002 ],\n",
       "       [ 0.04265452, -0.4734375 ],\n",
       "       [-0.1944664 , -0.87308152],\n",
       "       [-0.108303  , -0.61976511],\n",
       "       [ 0.06032971, -0.61260696],\n",
       "       [-0.01284011, -0.5470416 ],\n",
       "       [-0.09429188, -0.51070891],\n",
       "       [ 0.50173713, -0.35664237],\n",
       "       [ 0.20600917, -0.50659684],\n",
       "       [ 0.15993517, -0.56815586],\n",
       "       [ 0.00606387, -0.40715276],\n",
       "       [-0.01599428, -0.29989762],\n",
       "       [-0.07583549, -0.55166993],\n",
       "       [ 0.26731252, -0.3995437 ]])"
      ]
     },
     "execution_count": 347,
     "metadata": {},
     "output_type": "execute_result"
    }
   ],
   "source": [
    "inputs = np.concatenate((Class_A , Class_B))    # 20 + 20 = 40 data points\n",
    "inputs"
   ]
  },
  {
   "cell_type": "code",
   "execution_count": 348,
   "metadata": {},
   "outputs": [
    {
     "data": {
      "text/plain": [
       "array([0.45261865, 0.15332651])"
      ]
     },
     "execution_count": 348,
     "metadata": {},
     "output_type": "execute_result"
    }
   ],
   "source": [
    "inputs[1]"
   ]
  },
  {
   "cell_type": "code",
   "execution_count": 349,
   "metadata": {},
   "outputs": [
    {
     "data": {
      "text/plain": [
       "array([ 1.,  1.,  1.,  1.,  1.,  1.,  1.,  1.,  1.,  1.,  1.,  1.,  1.,\n",
       "        1.,  1.,  1.,  1.,  1.,  1.,  1., -1., -1., -1., -1., -1., -1.,\n",
       "       -1., -1., -1., -1., -1., -1., -1., -1., -1., -1., -1., -1., -1.,\n",
       "       -1.])"
      ]
     },
     "execution_count": 349,
     "metadata": {},
     "output_type": "execute_result"
    }
   ],
   "source": [
    "targets = np.concatenate((np.ones(Class_A.shape[0]), -np.ones(Class_B.shape[0])))    # set labels for 40 samples\n",
    "targets"
   ]
  },
  {
   "cell_type": "code",
   "execution_count": 350,
   "metadata": {},
   "outputs": [
    {
     "data": {
      "text/plain": [
       "array([[ 0.50173713, -0.35664237],\n",
       "       [ 0.60273582,  0.50530129],\n",
       "       [-0.1944664 , -0.87308152],\n",
       "       [ 0.14469689,  0.27103254],\n",
       "       [ 0.85341347,  0.21283769],\n",
       "       [-0.34778586,  0.14300131],\n",
       "       [-0.01284011, -0.5470416 ],\n",
       "       [-0.52881652,  0.51914654],\n",
       "       [ 0.31587895,  0.14234523],\n",
       "       [-0.108303  , -0.61976511],\n",
       "       [ 0.18111504, -0.317448  ],\n",
       "       [-0.46371177,  0.59923069],\n",
       "       [-0.23354556, -0.74872955],\n",
       "       [-0.98811621,  0.29102147],\n",
       "       [-0.19734547, -0.89504015],\n",
       "       [ 0.33415823, -0.04682115],\n",
       "       [ 0.00606387, -0.40715276],\n",
       "       [-0.53816434,  0.49009351],\n",
       "       [-0.54362744,  0.73298503],\n",
       "       [-0.65447685,  0.64083285],\n",
       "       [ 0.20600917, -0.50659684],\n",
       "       [ 0.45261865,  0.15332651],\n",
       "       [ 0.37853697,  0.08690757],\n",
       "       [-0.45514934,  0.29609263],\n",
       "       [-0.07583549, -0.55166993],\n",
       "       [ 0.19304112, -0.40677686],\n",
       "       [-0.13569781, -0.6490002 ],\n",
       "       [ 0.58507317,  0.2938474 ],\n",
       "       [-0.09429188, -0.51070891],\n",
       "       [-0.67621244,  0.5128084 ],\n",
       "       [ 0.04265452, -0.4734375 ],\n",
       "       [ 0.16823378,  0.32362017],\n",
       "       [-0.02644637, -0.4672276 ],\n",
       "       [ 0.53882743, -0.31991253],\n",
       "       [ 0.26731252, -0.3995437 ],\n",
       "       [ 0.15993517, -0.56815586],\n",
       "       [ 0.06032971, -0.61260696],\n",
       "       [-0.01599428, -0.29989762],\n",
       "       [ 0.16856945, -0.74073093],\n",
       "       [-0.86070708,  0.4598205 ]])"
      ]
     },
     "execution_count": 350,
     "metadata": {},
     "output_type": "execute_result"
    }
   ],
   "source": [
    "N = inputs.shape[0]    # Number of samples\n",
    "permute=list(range(N))\n",
    "random.shuffle(permute)\n",
    "inputs = inputs[permute, : ]    # shuffle the input\n",
    "inputs"
   ]
  },
  {
   "cell_type": "code",
   "execution_count": 351,
   "metadata": {},
   "outputs": [
    {
     "data": {
      "text/plain": [
       "array([-1.,  1., -1.,  1.,  1.,  1., -1.,  1.,  1., -1., -1.,  1., -1.,\n",
       "        1., -1.,  1., -1.,  1.,  1.,  1., -1.,  1.,  1.,  1., -1., -1.,\n",
       "       -1.,  1., -1.,  1., -1.,  1., -1.,  1., -1., -1., -1., -1., -1.,\n",
       "        1.])"
      ]
     },
     "execution_count": 351,
     "metadata": {},
     "output_type": "execute_result"
    }
   ],
   "source": [
    "targets = targets[permute]    # shuffle the label\n",
    "targets"
   ]
  },
  {
   "cell_type": "markdown",
   "metadata": {},
   "source": [
    "## 【2】Plot"
   ]
  },
  {
   "cell_type": "code",
   "execution_count": 352,
   "metadata": {},
   "outputs": [
    {
     "data": {
      "image/png": "[encoded data removed]",
      "text/plain": [
       "<Figure size 432x288 with 1 Axes>"
      ]
     },
     "metadata": {
      "needs_background": "light"
     },
     "output_type": "display_data"
    }
   ],
   "source": [
    "plt.plot([p[0] for p in Class_A], [p[1] for p in Class_A ], 'b.')\n",
    "plt.plot([p[0] for p in Class_B], [p[1] for p in Class_B ], 'r+')\n",
    "\n",
    "plt.axis('equal')    # Force same scale on both axes\n",
    "plt.show()    # Show the plot on the screen "
   ]
  },
  {
   "cell_type": "markdown",
   "metadata": {},
   "source": [
    "## 【3】Function definition"
   ]
  },
  {
   "cell_type": "code",
   "execution_count": 353,
   "metadata": {},
   "outputs": [],
   "source": [
    "def Kernel_Func_Linear(x1, x2):\n",
    "    # datapoint x1 is 1*2 matrix [x1, y1], x2 is 1*2 matrix [x2,y2]\n",
    "    K = x1[0]*x2[0] + x1[1]*x2[1]\n",
    "    return float(K)\n",
    "    \n",
    "def Kernel_Func_Polinomial(x1, x2):\n",
    "    K = (x1[0]*x2[0] + x1[1]*x2[1] + 1)**POLI\n",
    "    return float(K)\n",
    "    \n",
    "def Kernel_Func_RBF(x1, x2):\n",
    "    K = math.exp((-1) * ((np.linalg.norm(x1-x2, ord=2)**2)/(2*STD_DEVI**2)))\n",
    "    return float(K)\n",
    "    \n",
    "def Objectives(alphas):\n",
    "    \"\"\"\n",
    "    the objective function that we want to minimise\n",
    "    alphas: alpha 1D array []\n",
    "    t: labels 1D array []\n",
    "    x: dataset, 2D array [[], [], ..., []]\n",
    "    return: a scalar value \n",
    "    \"\"\"\n",
    "    formula = 0\n",
    "    for i in range(len(alphas)):\n",
    "        for j in range(len(alphas)):\n",
    "            formula += 0.5 * alphas[i] * alphas[j] * targets[i] * targets[j] * Kernel_Func_Linear(inputs[i], inputs[j])\n",
    "        formula += -alphas[i]\n",
    "    \n",
    "    return formula\n",
    "\n",
    "def Zerofunc(alpha):\n",
    "    multi = alpha * targets\n",
    "    multi = multi.sum()\n",
    "    return multi"
   ]
  },
  {
   "cell_type": "markdown",
   "metadata": {},
   "source": [
    "## 【4】Minimize"
   ]
  },
  {
   "cell_type": "code",
   "execution_count": 354,
   "metadata": {},
   "outputs": [],
   "source": [
    "alpha = np.zeros(N)"
   ]
  },
  {
   "cell_type": "code",
   "execution_count": 355,
   "metadata": {},
   "outputs": [],
   "source": [
    "result = minimize(fun=Objectives,\n",
    "                  x0=alpha,\n",
    "                  bounds=[(0, C) for b in range(N)],\n",
    "                  constraints={'type':'eq', 'fun':Zerofunc})"
   ]
  },
  {
   "cell_type": "code",
   "execution_count": 356,
   "metadata": {},
   "outputs": [
    {
     "data": {
      "text/plain": [
       "     fun: -9.288075274716286\n",
       "     jac: array([-0.0653069 ,  0.48060417,  1.45747375, -0.22708726, -0.30501795,\n",
       "       -0.64266467,  0.52679467,  0.38456666, -0.56552589,  0.74092174,\n",
       "       -0.13643885,  0.6156044 ,  1.11540389, -0.30614507,  1.51904154,\n",
       "       -1.09078622,  0.13450599,  0.30244839,  0.97903097,  0.70890164,\n",
       "        0.38798571, -0.51863718, -0.71264207, -0.22858882,  0.54719508,\n",
       "        0.11120951,  0.82569504, -0.11107492,  0.43518317,  0.34935617,\n",
       "        0.31496751, -0.07766116,  0.30587542, -1.82786906,  0.08220458,\n",
       "        0.56510699,  0.70089817, -0.16191936,  1.04525566,  0.17966223])\n",
       " message: 'Optimization terminated successfully.'\n",
       "    nfev: 589\n",
       "     nit: 14\n",
       "    njev: 14\n",
       "  status: 0\n",
       " success: True\n",
       "       x: array([1.00000000e+00, 0.00000000e+00, 0.00000000e+00, 0.00000000e+00,\n",
       "       8.06271950e-02, 1.00000000e+00, 4.00879089e-15, 0.00000000e+00,\n",
       "       1.00000000e+00, 0.00000000e+00, 1.00000000e+00, 0.00000000e+00,\n",
       "       0.00000000e+00, 5.10478312e-01, 0.00000000e+00, 1.00000000e+00,\n",
       "       1.00000000e+00, 0.00000000e+00, 0.00000000e+00, 0.00000000e+00,\n",
       "       0.00000000e+00, 1.00000000e+00, 1.00000000e+00, 0.00000000e+00,\n",
       "       0.00000000e+00, 1.00000000e+00, 0.00000000e+00, 0.00000000e+00,\n",
       "       0.00000000e+00, 0.00000000e+00, 0.00000000e+00, 0.00000000e+00,\n",
       "       5.91105507e-01, 1.00000000e+00, 1.00000000e+00, 0.00000000e+00,\n",
       "       0.00000000e+00, 1.00000000e+00, 0.00000000e+00, 7.29201018e-15])"
      ]
     },
     "execution_count": 356,
     "metadata": {},
     "output_type": "execute_result"
    }
   ],
   "source": [
    "result"
   ]
  },
  {
   "cell_type": "code",
   "execution_count": 357,
   "metadata": {},
   "outputs": [],
   "source": [
    "alpha = result.x    # update alpha"
   ]
  },
  {
   "cell_type": "markdown",
   "metadata": {},
   "source": [
    "## 【5】Extract non-zero alpha"
   ]
  },
  {
   "cell_type": "code",
   "execution_count": 358,
   "metadata": {},
   "outputs": [
    {
     "name": "stdout",
     "output_type": "stream",
     "text": [
      "succeed, extremum has been found\n"
     ]
    },
    {
     "data": {
      "text/plain": [
       "[0, 4, 5, 8, 10, 13, 15, 16, 21, 22, 25, 32, 33, 34, 37]"
      ]
     },
     "execution_count": 358,
     "metadata": {},
     "output_type": "execute_result"
    }
   ],
   "source": [
    "SV_index = []    # index of Support Vector (non-zero alpha)\n",
    "\n",
    "if result.success:\n",
    "    print('succeed, extremum has been found')\n",
    "    for i, element in enumerate(result.x):\n",
    "        if element > 1e-5:\n",
    "            SV_index.append(i)\n",
    "\n",
    "SV_index"
   ]
  },
  {
   "cell_type": "markdown",
   "metadata": {},
   "source": [
    "## 【6】Compute b (intercept)"
   ]
  },
  {
   "cell_type": "code",
   "execution_count": 359,
   "metadata": {},
   "outputs": [
    {
     "data": {
      "text/plain": [
       "0.06530699032247343"
      ]
     },
     "execution_count": 359,
     "metadata": {},
     "output_type": "execute_result"
    }
   ],
   "source": [
    "b = -targets[SV_index[0]]    # anyone of the support vector\n",
    "\n",
    "for i in SV_index:\n",
    "    b += alpha[i] * targets[i] * Kernel_Func_Linear(inputs[SV_index[0]], inputs[i])\n",
    "b"
   ]
  },
  {
   "cell_type": "markdown",
   "metadata": {},
   "source": [
    "## Plot"
   ]
  },
  {
   "cell_type": "code",
   "execution_count": 360,
   "metadata": {},
   "outputs": [
    {
     "data": {
      "image/png": "[encoded data removed]",
      "text/plain": [
       "<Figure size 432x288 with 1 Axes>"
      ]
     },
     "metadata": {
      "needs_background": "light"
     },
     "output_type": "display_data"
    }
   ],
   "source": [
    "xgrid = np.linspace(-5, 5)\n",
    "ygrid = np.linspace(-4, 4)\n",
    "\n",
    "def indicator(new_data):\n",
    "    result = -b\n",
    "    for i in SV_index:\n",
    "        result += alpha[i] * targets[i] * Kernel_Func_Linear(new_data, inputs[i])\n",
    "    return result\n",
    "\n",
    "grid = np.array([[indicator([x, y])\n",
    "                 for x in xgrid]\n",
    "                 for y in ygrid])\n",
    "\n",
    "plt.plot([p[0] for p in Class_A], [p[1] for p in Class_A ], 'b.')\n",
    "plt.plot([p[0] for p in Class_B], [p[1] for p in Class_B ], 'r+')\n",
    "\n",
    "plt.contour(xgrid, ygrid, grid,\n",
    "            (-1.0, 0.0, 1.0),\n",
    "            colors = ('red', 'black', 'blue'),\n",
    "            linewidths = (1, 3, 1))\n",
    "\n",
    "plt.axis('equal')    # Force same scale on both axes\n",
    "plt.savefig('svmplot.pdf')\n",
    "plt.show()    # Show the plot on the screen"
   ]
  },
  {
   "cell_type": "code",
   "execution_count": null,
   "metadata": {},
   "outputs": [],
   "source": []
  }
 ],
 "metadata": {
  "kernelspec": {
   "display_name": "Python 3",
   "language": "python",
   "name": "python3"
  },
  "language_info": {
   "codemirror_mode": {
    "name": "ipython",
    "version": 3
   },
   "file_extension": ".py",
   "mimetype": "text/x-python",
   "name": "python",
   "nbconvert_exporter": "python",
   "pygments_lexer": "ipython3",
   "version": "3.7.7"
  }
 },
 "nbformat": 4,
 "nbformat_minor": 4
}
